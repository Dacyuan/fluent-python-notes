{
 "cells": [
  {
   "cell_type": "markdown",
   "metadata": {},
   "source": [
    "# 使用一等函数实现设计模式\n",
    "\n",
    "> 符合模式并不表示做得对。\n",
    "> ——Ralph Johnson: 经典的《设计模式：可复用面向对象软件的基础》的作者之一\n",
    "\n",
    "本章将对现有的一些设计模式进行简化，从而减少样板代码。"
   ]
  },
  {
   "cell_type": "markdown",
   "metadata": {},
   "source": [
    "实现策略模式，可以依赖 `abc.ABC` 和 `abc.abstractmethod` 来构建抽象基类。  \n",
    "但为了实现“策略”，并不一定要针对每种策略来编写子类，如果需求简单，编写函数就好了。  \n",
    "我们可以通过 `globals()` 函数来发现所有策略函数，并遍历并应用策略函数来找出最优策略。"
   ]
  },
  {
   "cell_type": "code",
   "execution_count": null,
   "metadata": {},
   "outputs": [],
   "source": []
  }
 ],
 "metadata": {
  "kernelspec": {
   "display_name": "Python 3",
   "language": "python",
   "name": "python3"
  },
  "language_info": {
   "codemirror_mode": {
    "name": "ipython",
    "version": 3
   },
   "file_extension": ".py",
   "mimetype": "text/x-python",
   "name": "python",
   "nbconvert_exporter": "python",
   "pygments_lexer": "ipython3",
   "version": "3.7.0"
  }
 },
 "nbformat": 4,
 "nbformat_minor": 2
}
