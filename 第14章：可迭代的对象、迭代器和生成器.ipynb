{
 "cells": [
  {
   "cell_type": "markdown",
   "metadata": {},
   "source": [
    "《设计模式：可复用面向对象软件的基础》一书讲解迭代器设计模式时，在“适用性”一 节中说：\n",
    "迭代器模式可用来：\n",
    "* 访问一个聚合对象的内容而无需暴露它的内部表示\n",
    "* 支持对聚合对象的多种遍历\n",
    "* 为遍历不同的聚合结构提供一个统一的接口（即支持多态迭代）\n",
    "\n",
    "为了“支持多种遍历”，必须能从同一个可迭代的实例中获取多个**独立**的迭代器，而且各个迭代器要能维护自身的内部状态，因此这一模式正确的实现方式是，每次调用 `iter(my_iterable)` 都新建一个独立的迭代器。这就是为什么这个示例需要定义 `SentenceIterator` 类。\n",
    "\n",
    "所以，不应该把 Sentence 本身作为一个迭代器，否则每次调用 `iter(sentence)` 时返回的都是自身，就无法进行多次迭代了。\n"
   ]
  },
  {
   "cell_type": "code",
   "execution_count": null,
   "metadata": {},
   "outputs": [],
   "source": [
    "import re\n",
    "\n",
    "\n",
    "class Sentence:\n",
    "    def  __init__(self, sentence):\n",
    "        self.sentence = sentence\n",
    "        self.words = re.findall(r'\\w+', sentence)\n",
    "\n",
    "    def __iter__(self):\n",
    "        \"\"\"返回 iter(self) 的结果\"\"\"\n",
    "        return SentenceIterator(self.words)\n",
    "        \n",
    "\n",
    "class SentenceIterator:\n",
    "    def __init__(self, words):\n",
    "        self.words = words\n",
    "        self._index = 0\n",
    "\n",
    "    def __next__(self):\n",
    "        \"\"\"调用时返回下一个对象\"\"\"\n",
    "        try:\n",
    "            word = self.words[self._index]\n",
    "        except IndexError:\n",
    "            raise StopIteration()\n",
    "        else:\n",
    "            self._index += 1\n",
    "        \n",
    "        return word\n",
    "\n",
    "\n",
    "    \n",
    "sentence = Sentence('Return a list of all non-overlapping matches in the string.')\n",
    "for word in sentence:\n",
    "    print(word, end='·')"
   ]
  },
  {
   "cell_type": "code",
   "execution_count": null,
   "metadata": {},
   "outputs": [],
   "source": [
    "# 使用生成器函数来帮我们创建迭代器\n",
    "import re\n",
    "\n",
    "\n",
    "class Sentence:\n",
    "    def  __init__(self, sentence):\n",
    "        self.sentence = sentence\n",
    "        self.words = re.findall(r'\\w+', sentence)\n",
    "\n",
    "    def __iter__(self):\n",
    "        for word in self.words:\n",
    "            yield word\n",
    "        return\n",
    "\n",
    "sentence = Sentence('Return a list of all non-overlapping matches in the string.')\n",
    "for word in sentence:\n",
    "    print(word, end='·')"
   ]
  },
  {
   "cell_type": "code",
   "execution_count": null,
   "metadata": {},
   "outputs": [],
   "source": [
    "# 使用 re.finditer 来惰性生成值\n",
    "# 使用生成器表达式（很久没用过了）\n",
    "import re\n",
    "\n",
    "\n",
    "class Sentence:\n",
    "    def  __init__(self, sentence):\n",
    "        self.re_word = re.compile(r'\\w+')\n",
    "        self.sentence = sentence\n",
    "\n",
    "    def __iter__(self):\n",
    "        return (match.group()\n",
    "                for match in self.re_word.finditer(self.sentence))\n",
    "\n",
    "sentence = Sentence('Return a list of all non-overlapping matches in the string.')\n",
    "for word in sentence:\n",
    "    print(word, end='·')"
   ]
  },
  {
   "cell_type": "code",
   "execution_count": null,
   "metadata": {},
   "outputs": [],
   "source": [
    "# 实用模块\n",
    "import itertools\n",
    "\n",
    "# takewhile & dropwhile\n",
    "print(list(itertools.takewhile(lambda x: x < 3, [1, 5, 2, 4, 3])))\n",
    "print(list(itertools.dropwhile(lambda x: x < 3, [1, 5, 2, 4, 3])))\n",
    "# zip\n",
    "print(list(zip(range(5), range(3))))\n",
    "print(list(itertools.zip_longest(range(5), range(3))))\n",
    "\n",
    "# itertools.groupby\n",
    "animals = ['rat', 'bear', 'duck', 'bat', 'eagle', 'shark', 'dolphin', 'lion']\n",
    "# groupby 需要假定输入的可迭代对象已经按照分组标准进行排序（至少同组的元素要连在一起）\n",
    "print('----')\n",
    "for length, animal in itertools.groupby(animals, len):\n",
    "    print(length, list(animal))\n",
    "print('----')\n",
    "animals.sort(key=len)\n",
    "for length, animal in itertools.groupby(animals, len):\n",
    "    print(length, list(animal))\n",
    "print('---')\n",
    "# tee\n",
    "g1, g2 = itertools.tee('abc', 2)\n",
    "print(list(zip(g1, g2)))"
   ]
  },
  {
   "cell_type": "markdown",
   "metadata": {},
   "source": [
    "`iter` 函数还有一个鲜为人知的用法：传入两个参数，使用常规的函数或任何可调用的对象创建迭代器。这样使用时，第一个参数必须是可调用的对象，用于不断调用（没有参数），产出各个值；第二个值是哨符，这是个标记值，当可调用的对象返回这个值时，触发迭代器抛出 StopIteration 异常，而不产出哨符。"
   ]
  },
  {
   "cell_type": "code",
   "execution_count": null,
   "metadata": {},
   "outputs": [],
   "source": [
    "# iter 的神奇用法\n",
    "# iter(callable, sentinel)\n",
    "import random\n",
    "\n",
    "def rand():\n",
    "    return random.randint(1, 6)\n",
    "# 不停调用 rand(), 直到产出一个 5\n",
    "print(list(iter(rand, 5)))"
   ]
  }
 ],
 "metadata": {
  "kernelspec": {
   "display_name": "Python 3",
   "language": "python",
   "name": "python3"
  },
  "language_info": {
   "codemirror_mode": {
    "name": "ipython",
    "version": 3
   },
   "file_extension": ".py",
   "mimetype": "text/x-python",
   "name": "python",
   "nbconvert_exporter": "python",
   "pygments_lexer": "ipython3",
   "version": "3.7.0"
  }
 },
 "nbformat": 4,
 "nbformat_minor": 2
}
