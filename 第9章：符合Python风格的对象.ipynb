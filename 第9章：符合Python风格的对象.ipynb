{
 "cells": [
  {
   "cell_type": "markdown",
   "metadata": {},
   "source": [
    "# 符合 Python 风格的对象\n",
    "> 绝对不要使用两个前导下划线，这是很烦人的自私行为。  \n",
    "> ——Ian Bicking  \n",
    ">   pip, virtualenv 和 Paste 等项目的创建者\n",
    "\n",
    "得益于 Python 数据模型，自定义类型的行为可以像内置类型那样自然。  \n",
    "实现如此自然的行为，靠的不是继承，而是**鸭子类型**（duck typing）：我们只需按照预定行为实现对象所需的方法即可。\n",
    "\n",
    "书中的 `Vector` 类完整实现可见[官方 Repo](https://github.com/fluentpython/example-code/blob/master/09-pythonic-obj/vector2d_v3.py)."
   ]
  },
  {
   "cell_type": "markdown",
   "metadata": {},
   "source": [
    "## 对象表现形式\n",
    "Python 中，有两种获取对象的字符串表示形式的标准方式：\n",
    "* `repr()`：以便于开发者理解的方式返回对象的字符串表示形式\n",
    "* `str()`：以便于用户理解的方式返回对象的字符串表示形式\n",
    "\n",
    "实现 `__repr__` 和 `__str__` 两个特殊方法，可以分别为 `repr` 和 `str` 提供支持。"
   ]
  },
  {
   "cell_type": "markdown",
   "metadata": {},
   "source": [
    "## classmethod & staticmethod\n",
    "`classmethod`: 定义操作**类**，而不是操作**实例**的方法。  \n",
    "`classmethod` 最常见的用途是定义备选构造方法，比如 `datetime.fromordinal` 和 `datetime.fromtimestamp`.\n",
    "\n",
    "`staticmethod` 也会改变方法的调用方式，但方法的第一个参数不是特殊的值（`self` 或 `cls`）。  \n",
    "`staticmethod` 可以把一些静态函数定义在类中而不是模块中，但抛开 `staticmethod`，我们也可以用其它方法来实现相同的功能。"
   ]
  },
  {
   "cell_type": "code",
   "execution_count": 1,
   "metadata": {},
   "outputs": [
    {
     "name": "stdout",
     "output_type": "stream",
     "text": [
      "(<class '__main__.Demo'>, 1) (1,)\n",
      "(<class '__main__.Demo'>, 1) (1,) (<__main__.Demo object at 0x05E719B0>, 1)\n"
     ]
    }
   ],
   "source": [
    "class Demo:\n",
    "    def omethod(*args):\n",
    "        # 第一个参数是 Demo 对象\n",
    "        return args\n",
    "    @classmethod\n",
    "    def cmethod(*args):\n",
    "        # 第一个参数是 Demo 类\n",
    "        return args\n",
    "    @staticmethod\n",
    "    def smethod(*args):\n",
    "        # 第一个参数不是固定的，由调用者传入\n",
    "        return args\n",
    "\n",
    "print(Demo.cmethod(1), Demo.smethod(1))\n",
    "demo = Demo()\n",
    "print(demo.cmethod(1), demo.smethod(1), demo.omethod(1))"
   ]
  },
  {
   "cell_type": "markdown",
   "metadata": {},
   "source": [
    "## 字符串模板化\n",
    "`__format__` 实现了 `format` 方法的接口，它的参数为 `format` 格式声明符，格式声明符的表示法叫做[格式规范微语言](https://docs.python.org/3/library/string.html#formatspec)。  \n",
    "`str.format` 的声明符表示法和格式规范微语言类似，称作[格式字符串句法](https://docs.python.org/3/library/string.html#formatstrings)。"
   ]
  },
  {
   "cell_type": "code",
   "execution_count": 2,
   "metadata": {},
   "outputs": [
    {
     "name": "stdout",
     "output_type": "stream",
     "text": [
      "15 15.00 F\n"
     ]
    }
   ],
   "source": [
    "# format\n",
    "num = 15\n",
    "print(format(num, '2d'), format(num, '.2f'), format(num, 'X'))"
   ]
  },
  {
   "cell_type": "markdown",
   "metadata": {},
   "source": [
    "## 对象散列化\n",
    "要想创建可散列的类型，只需要实现 `__hash__` 和 `__eq__` 即可。  \n",
    "有一个要求：如果 `a == b`，那么 `hash(a) == hash(b)`."
   ]
  }
 ],
 "metadata": {
  "kernelspec": {
   "display_name": "Python 3",
   "language": "python",
   "name": "python3"
  },
  "language_info": {
   "codemirror_mode": {
    "name": "ipython",
    "version": 3
   },
   "file_extension": ".py",
   "mimetype": "text/x-python",
   "name": "python",
   "nbconvert_exporter": "python",
   "pygments_lexer": "ipython3",
   "version": "3.7.0"
  }
 },
 "nbformat": 4,
 "nbformat_minor": 2
}
