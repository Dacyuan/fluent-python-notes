{
 "cells": [
  {
   "cell_type": "markdown",
   "metadata": {},
   "source": [
    "# 字典和集合\n",
    "\n",
    "> 字典这个数据结构活跃在所有 Python 程序的背后，即便你的源码里并没有直接用到它。  \n",
    "> ——A. M. Kuchling "
   ]
  },
  {
   "cell_type": "markdown",
   "metadata": {},
   "source": [
    "可散列对象需要实现 `__hash__` 和 `__eq__` 函数。  \n",
    "如果两个可散列对象是相等的，那么它们的散列值一定是一样的。"
   ]
  },
  {
   "cell_type": "code",
   "execution_count": null,
   "metadata": {},
   "outputs": [],
   "source": [
    "# 字典提供了很多种构造方法\n",
    "a = dict(one=1, two=2, three=3)\n",
    "b = {'one': 1, 'two': 2, 'three': 3} \n",
    "c = dict(zip(['one', 'two', 'three'], [1, 2, 3])) \n",
    "d = dict([('two', 2), ('one', 1), ('three', 3)]) \n",
    "e = dict({'three': 3, 'one': 1, 'two': 2})\n",
    "a == b == c == d == e"
   ]
  },
  {
   "cell_type": "code",
   "execution_count": null,
   "metadata": {},
   "outputs": [],
   "source": [
    "# 字典推导式\n",
    "r = range(5)\n",
    "d = {n * 2: n for n in r if n < 3}\n",
    "print(d)\n",
    "# setdefault\n",
    "for n in r:\n",
    "    d.setdefault(n, 0)\n",
    "print(d)"
   ]
  },
  {
   "cell_type": "code",
   "execution_count": null,
   "metadata": {},
   "outputs": [],
   "source": [
    "# defaultdcit & __missing__\n",
    "class mydefaultdict(dict):\n",
    "    def __init__(self, value, value_factory):\n",
    "        super().__init__(value)\n",
    "        self._value_factory = value_factory\n",
    "\n",
    "    def __missing__(self, key):\n",
    "        # 要避免循环调用\n",
    "        # return self[key]\n",
    "        self[key] = self._value_factory()\n",
    "        return self[key]\n",
    "\n",
    "d = mydefaultdict({1:1}, list)\n",
    "print(d[1])\n",
    "print(d[2])\n",
    "d[3].append(1)\n",
    "print(d)"
   ]
  },
  {
   "cell_type": "markdown",
   "metadata": {},
   "source": [
    "### 字典的变种\n",
    "* collections.OrderedDict\n",
    "* collections.ChainMap (容纳多个不同的映射对象，然后在进行键查找操作时会从前到后逐一查找，直到被找到为止)\n",
    "* collections.Counter\n",
    "* colllections.UserDict (dict 的 纯 Python 实现)"
   ]
  },
  {
   "cell_type": "code",
   "execution_count": null,
   "metadata": {},
   "outputs": [],
   "source": [
    "# UserDict\n",
    "# 定制化字典时，尽量继承 UserDict 而不是 dict\n",
    "from collections import UserDict\n",
    "\n",
    "class mydict(UserDict):\n",
    "    def __getitem__(self, key):\n",
    "        print('Getting key', key)\n",
    "        return super().__getitem__(key)\n",
    "\n",
    "d = mydict({1:1})\n",
    "print(d[1], d[2])"
   ]
  },
  {
   "cell_type": "code",
   "execution_count": 12,
   "metadata": {},
   "outputs": [
    {
     "name": "stdout",
     "output_type": "stream",
     "text": [
      "1\n",
      "TypeError(\"'mappingproxy' object does not support item assignment\")\n",
      "2\n"
     ]
    }
   ],
   "source": [
    "# MyppingProxyType 用于构建 Mapping 的只读实例\n",
    "from types import MappingProxyType\n",
    "\n",
    "d = {1: 1}\n",
    "d_proxy = MappingProxyType(d)\n",
    "print(d_proxy[1])\n",
    "try:\n",
    "    d_proxy[1] = 1\n",
    "except Exception as e:\n",
    "    print(repr(e))\n",
    "\n",
    "d[1] = 2\n",
    "print(d_proxy[1])"
   ]
  },
  {
   "cell_type": "code",
   "execution_count": 20,
   "metadata": {},
   "outputs": [
    {
     "name": "stdout",
     "output_type": "stream",
     "text": [
      "True False\n",
      "{1, 2}\n",
      "1 2\n",
      "KeyError('pop from an empty set')\n"
     ]
    }
   ],
   "source": [
    "# set 的操作\n",
    "# 子集 & 真子集\n",
    "a, b = {1, 2}, {1, 2}\n",
    "print(a <= b, a < b)\n",
    "\n",
    "# discard\n",
    "a = {1, 2, 3}\n",
    "a.discard(3)\n",
    "print(a)\n",
    "\n",
    "# pop\n",
    "print(a.pop(), a.pop())\n",
    "try:\n",
    "    a.pop()\n",
    "except Exception as e:\n",
    "    print(repr(e))"
   ]
  }
 ],
 "metadata": {
  "kernelspec": {
   "display_name": "Python 3",
   "language": "python",
   "name": "python3"
  },
  "language_info": {
   "codemirror_mode": {
    "name": "ipython",
    "version": 3
   },
   "file_extension": ".py",
   "mimetype": "text/x-python",
   "name": "python",
   "nbconvert_exporter": "python",
   "pygments_lexer": "ipython3",
   "version": "3.7.0"
  }
 },
 "nbformat": 4,
 "nbformat_minor": 2
}
