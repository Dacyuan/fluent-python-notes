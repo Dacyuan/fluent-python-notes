{
 "cells": [
  {
   "cell_type": "markdown",
   "metadata": {},
   "source": [
    "# 文本和字节序列\n",
    "\n",
    "> 人来使用文本，计算机使用字节序列  \n",
    "> —— Esther Nam 和 Travis Fischer  \"Character Encoding and Unicode in Python\"\n",
    "\n",
    "Python 3 明确区分了人类可读的文本字符串和原始的字节序列。  \n",
    "隐式地把字节序列转换成 Unicode 文本（的行为）已成过去。"
   ]
  },
  {
   "cell_type": "markdown",
   "metadata": {},
   "source": [
    "### 字符与编码\n",
    "字符的标识，及**码位**，是 0~1114111 的数字，在 Unicode 标准中用 4-6 个十六进制数字表示，如 A 为 U+0041, 高音谱号为 U+1D11E，😂 为 U+1F602.  \n",
    "字符的具体表述取决于所用的**编码**。编码时在码位与字节序列自减转换时使用的算法。  \n",
    "把码位转换成字节序列的过程是**编码**，把字节序列转成码位的过程是**解码**。\n",
    "\n",
    "### 序列类型\n",
    "Python 内置了两种基本的二进制序列类型：不可变的 `bytes` 和可变的 `bytearray`"
   ]
  },
  {
   "cell_type": "code",
   "execution_count": null,
   "metadata": {},
   "outputs": [],
   "source": [
    "# 基本的编码\n",
    "content = \"São Paulo\"\n",
    "for codec in [\"utf_8\", \"utf_16\"]:\n",
    "    print(codec, content.encode(codec))\n",
    "\n",
    "# UnicodeEncodeError\n",
    "try:\n",
    "    content.encode('cp437')\n",
    "except UnicodeEncodeError as e:\n",
    "    print(e)\n",
    "\n",
    "# 忽略无法编码的字符\n",
    "print(content.encode('cp437', errors='ignore'))\n",
    "# 把无法编码的字符替换成 ?\n",
    "print(content.encode('cp437', errors='replace'))\n",
    "# 把无法编码的字符替换成 xml 实体\n",
    "print(content.encode('cp437', errors='xmlcharrefreplace'))\n",
    "\n",
    "# 还可以自己设置错误处理方式\n",
    "# https://docs.python.org/3/library/codecs.html#codecs.register_error"
   ]
  },
  {
   "cell_type": "code",
   "execution_count": null,
   "metadata": {},
   "outputs": [],
   "source": [
    "# 基本的解码\n",
    "# 处理 UnicodeDecodeError\n",
    "octets = b'Montr\\xe9al'\n",
    "print(octets.decode('cp1252'))\n",
    "print(octets.decode('iso8859_7'))\n",
    "print(octets.decode('koi8_r'))\n",
    "try:\n",
    "    print(octets.decode('utf-8'))\n",
    "except UnicodeDecodeError as e:\n",
    "    print(e)\n",
    "\n",
    "# 将错误字符替换成 � (U+FFFD)\n",
    "octets.decode('utf-8', errors='replace')"
   ]
  },
  {
   "cell_type": "code",
   "execution_count": null,
   "metadata": {},
   "outputs": [],
   "source": [
    "# Python3 可以使用非 ASCII 名称\n",
    "São = 'Paulo'\n",
    "# 但是不能用 Emoji…"
   ]
  }
 ],
 "metadata": {
  "kernelspec": {
   "display_name": "Python 3",
   "language": "python",
   "name": "python3"
  },
  "language_info": {
   "codemirror_mode": {
    "name": "ipython",
    "version": 3
   },
   "file_extension": ".py",
   "mimetype": "text/x-python",
   "name": "python",
   "nbconvert_exporter": "python",
   "pygments_lexer": "ipython3",
   "version": "3.7.0"
  }
 },
 "nbformat": 4,
 "nbformat_minor": 2
}
