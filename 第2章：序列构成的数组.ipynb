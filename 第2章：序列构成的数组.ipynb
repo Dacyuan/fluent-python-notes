{
 "cells": [
  {
   "cell_type": "markdown",
   "metadata": {},
   "source": [
    "* 容器序列  \n",
    "    `list`、`tuple` 和 `collections.deque` 这些序列能存放不同类型的数据。\n",
    "* 扁平序列  \n",
    "    `str`、`bytes`、`bytearray`、`memoryview` 和 `array.array`，这类序列只能容纳一种类型。\n",
    "   \n",
    "容器序列存放的是它们所包含的任意类型的对象的**引用**，而扁平序列里存放的**是值而不是引用**。换句话说，扁平序列其实是一段连续的内存空间。由此可见扁平序列其实更加紧凑，但是它里面只能存放诸如字符、字节和数值这种基础类型。\n",
    "\n",
    "序列类型还能按照能否被修改来分类。\n",
    "* 可变序列  \n",
    "    `list`、`bytearray`、`array.array`、`collections.deque` 和 `memoryview`。\n",
    "* 不可变序列  \n",
    "    `tuple`、`str` 和 `bytes`"
   ]
  },
  {
   "cell_type": "code",
   "execution_count": null,
   "metadata": {},
   "outputs": [],
   "source": [
    "# 列表推导式和生成器表达式\n",
    "symbols = \"列表推导式\"\n",
    "[ord(symbol) for symbol in symbols]\n",
    "(ord(symbol) for symbol in symbols)"
   ]
  },
  {
   "cell_type": "code",
   "execution_count": 1,
   "metadata": {},
   "outputs": [
    {
     "name": "stdout",
     "output_type": "stream",
     "text": [
      "1 [2, 3, 4] 5\n"
     ]
    }
   ],
   "source": [
    "# 因为 pack/unpack 的存在，元组中的元素会凸显出它们的位置信息\n",
    "first, *others, last = (1, 2, 3, 4, 5)\n",
    "print(first, others, last)\n",
    "# 当然后面很多可迭代对象都支持 unpack 了…"
   ]
  },
  {
   "cell_type": "code",
   "execution_count": 2,
   "metadata": {},
   "outputs": [
    {
     "name": "stdout",
     "output_type": "stream",
     "text": [
      "Point(x=1, y=2) 1 2\n",
      "OrderedDict([('x', 1), ('y', 2)])\n"
     ]
    }
   ],
   "source": [
    "# namedtuple\n",
    "from collections import namedtuple\n",
    "\n",
    "Point = namedtuple('Point', ['x', 'y'])\n",
    "p = Point(1, 2)\n",
    "print(p, p.x, p.y)\n",
    "# _asdict() 会返回 OrderedDict\n",
    "print(p._asdict())"
   ]
  },
  {
   "cell_type": "code",
   "execution_count": 3,
   "metadata": {},
   "outputs": [
    {
     "name": "stdout",
     "output_type": "stream",
     "text": [
      "[0, 1] [2, 3, 4, 5]\n"
     ]
    }
   ],
   "source": [
    "# 为什么切片(slice)不返回最后一个元素\n",
    "a = list(range(6))\n",
    "# 使用同一个数即可将列表进行分割\n",
    "print(a[:2], a[2:])"
   ]
  },
  {
   "cell_type": "code",
   "execution_count": 4,
   "metadata": {},
   "outputs": [
    {
     "name": "stdout",
     "output_type": "stream",
     "text": [
      "Ellipsis\n",
      "<class 'ellipsis'>\n",
      "True\n",
      "True\n",
      "(1, 2)\n"
     ]
    }
   ],
   "source": [
    "# Ellipsis\n",
    "def test(first, xxx, last):\n",
    "    print(xxx)\n",
    "    print(type(xxx))\n",
    "    print(xxx == ...)\n",
    "    print(xxx is ...)\n",
    "    return first, last\n",
    "\n",
    "# ... 跟 None 一样，有点神奇\n",
    "print(test(1, ..., 2))"
   ]
  },
  {
   "cell_type": "code",
   "execution_count": 7,
   "metadata": {},
   "outputs": [
    {
     "name": "stdout",
     "output_type": "stream",
     "text": [
      "['F', 'A', 'C', 'C', 'B', 'A', 'A']\n",
      "[0, 10, 20, 30, 40, 50, 55, 60, 70, 80, 90]\n"
     ]
    }
   ],
   "source": [
    "# bisect\n",
    "import bisect\n",
    "def grade(score, breakpoints=[60, 70, 80, 90], grades='FDCBA'):\n",
    "    i = bisect.bisect(breakpoints, score)\n",
    "    return grades[i]\n",
    "\n",
    "print([grade(score) for score in [33, 99, 77, 70, 89, 90, 100]])\n",
    "\n",
    "a = list(range(0, 100, 10))\n",
    "# 插入并保持有序\n",
    "bisect.insort(a, 55)\n",
    "print(a)"
   ]
  }
 ],
 "metadata": {
  "kernelspec": {
   "display_name": "Python 3",
   "language": "python",
   "name": "python3"
  },
  "language_info": {
   "codemirror_mode": {
    "name": "ipython",
    "version": 3
   },
   "file_extension": ".py",
   "mimetype": "text/x-python",
   "name": "python",
   "nbconvert_exporter": "python",
   "pygments_lexer": "ipython3",
   "version": "3.7.0"
  }
 },
 "nbformat": 4,
 "nbformat_minor": 2
}
