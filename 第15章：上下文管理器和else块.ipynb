{
 "cells": [
  {
   "cell_type": "code",
   "execution_count": 2,
   "metadata": {},
   "outputs": [
    {
     "name": "stdout",
     "output_type": "stream",
     "text": [
      "ecilA\n",
      "YKCOWREBBAJ\n",
      "JABBERWOCKY\n",
      "Back to normal\n"
     ]
    }
   ],
   "source": [
    "# 上下文管理器与 __enter__ 方法返回对象的区别\n",
    "\n",
    "class LookingGlass:\n",
    "    def __enter__(self):\n",
    "        import sys\n",
    "        self.original_write = sys.stdout.write\n",
    "        sys.stdout.write = self.reverse_write\n",
    "        return 'JABBERWOCKY'\n",
    "\n",
    "    def reverse_write(self, text):\n",
    "        self.original_write(text[::-1])\n",
    "    \n",
    "    def __exit__(self, exc_type, exc_value, traceback):\n",
    "        import sys\n",
    "        sys.stdout.write = self.original_write\n",
    "        if exc_type is ZeroDivisionError:\n",
    "            print('Please DO NOT divide by zero!')\n",
    "            return True\n",
    "\n",
    "with LookingGlass() as what:    # 这里的 what 是 __enter__ 的返回值\n",
    "    print('Alice')\n",
    "    print(what)\n",
    "\n",
    "print(what)\n",
    "print('Back to normal')"
   ]
  },
  {
   "cell_type": "code",
   "execution_count": 3,
   "metadata": {},
   "outputs": [
    {
     "name": "stdout",
     "output_type": "stream",
     "text": [
      "hhhhha\n",
      "gfedcba\n",
      "abcdefg\n"
     ]
    }
   ],
   "source": [
    "# contextmanager 的使用\n",
    "\n",
    "import contextlib\n",
    "\n",
    "@contextlib.contextmanager\n",
    "def looking_glass():\n",
    "    import sys\n",
    "    original_write = sys.stdout.write\n",
    "    sys.stdout.write = lambda text: original_write(text[::-1])\n",
    "    msg = ''\n",
    "    try:\n",
    "        # 在当前上下文中抛出的异常，会通过 yield 语句抛出\n",
    "        yield 'abcdefg'\n",
    "    except ZeroDivisionError:\n",
    "        msg = 'Please DO NOT divide by zero!'\n",
    "    finally:\n",
    "        sys.stdout.write = original_write\n",
    "        if msg:\n",
    "            print(msg)\n",
    "\n",
    "# 写完以后感觉这个用法跟 pytest.fixture 好像啊\n",
    "\n",
    "with looking_glass() as what:\n",
    "    print('ahhhhh')\n",
    "    print(what)\n",
    "\n",
    "print(what)"
   ]
  }
 ],
 "metadata": {
  "kernelspec": {
   "display_name": "Python 3",
   "language": "python",
   "name": "python3"
  },
  "language_info": {
   "codemirror_mode": {
    "name": "ipython",
    "version": 3
   },
   "file_extension": ".py",
   "mimetype": "text/x-python",
   "name": "python",
   "nbconvert_exporter": "python",
   "pygments_lexer": "ipython3",
   "version": "3.7.0"
  }
 },
 "nbformat": 4,
 "nbformat_minor": 2
}
